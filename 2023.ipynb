{
 "cells": [
  {
   "cell_type": "code",
   "execution_count": 2,
   "metadata": {},
   "outputs": [],
   "source": [
    "import matplotlib.pyplot as plt\n",
    "import matplotlib.animation as animation\n",
    "import itertools\n",
    "import operator\n",
    "import collections\n",
    "import random\n",
    "import functools\n",
    "import statistics\n",
    "import math\n",
    "import regex\n",
    "import pprint as pp\n",
    "import networkx as nx\n",
    "\n",
    "\n",
    "plt.rc('image', cmap='viridis')\n",
    "plt.style.use('dark_background')\n",
    "\n",
    "\n",
    "def Input(day):\n",
    "    'Open input file for the day'\n",
    "    file = '2023/input{0}.txt'.format(day)\n",
    "    return open(file)\n",
    "\n",
    "def strip_lines(f):\n",
    "    return [l.strip() for l in f.readlines()] \n"
   ]
  },
  {
   "cell_type": "markdown",
   "metadata": {},
   "source": [
    "## Day 1: Trebuchet?!"
   ]
  },
  {
   "cell_type": "code",
   "execution_count": 3,
   "metadata": {},
   "outputs": [
    {
     "name": "stdout",
     "output_type": "stream",
     "text": [
      "Part One:  55172\n",
      "Part Two:  54925\n"
     ]
    }
   ],
   "source": [
    "with Input(1) as f:\n",
    "    lines = strip_lines(f)\n",
    "\n",
    "def calibrate_one(line):\n",
    "    digits = regex.findall('\\d', line)\n",
    "    return int(digits[0]) * 10 + int(digits[-1])\n",
    "\n",
    "def calibrate_two(line):\n",
    "    digits = regex.findall('\\d|one|two|three|four|five|six|seven|eight|nine', line, overlapped=True)\n",
    "    return word_to_int(digits[0]) * 10 + word_to_int(digits[-1])\n",
    "\n",
    "def word_to_int(word):\n",
    "    match word:\n",
    "        case 'one':\n",
    "            return 1\n",
    "        case 'two':\n",
    "            return 2\n",
    "        case 'three':\n",
    "            return 3\n",
    "        case 'four':\n",
    "            return 4\n",
    "        case 'five':\n",
    "            return 5\n",
    "        case 'six':\n",
    "            return 6\n",
    "        case 'seven':\n",
    "            return 7\n",
    "        case 'eight':\n",
    "            return 8\n",
    "        case 'nine':\n",
    "            return 9\n",
    "        case _:\n",
    "            return int(word)\n",
    "\n",
    "print('Part One: ', sum(map(calibrate_one, lines)))\n",
    "print('Part Two: ', sum(map(calibrate_two, lines)))\n"
   ]
  },
  {
   "cell_type": "markdown",
   "metadata": {},
   "source": [
    "# Day 2: Cube Conundrum"
   ]
  },
  {
   "cell_type": "code",
   "execution_count": 4,
   "metadata": {},
   "outputs": [
    {
     "name": "stdout",
     "output_type": "stream",
     "text": [
      "Part One:  2278\n",
      "Part Two:  67953\n"
     ]
    }
   ],
   "source": [
    "with Input(2) as f:\n",
    "    lines = strip_lines(f)\n",
    "\n",
    "def parse_game(line):\n",
    "    ''' \n",
    "    Find all the numbers for each color and return a tuple\n",
    "    of ([red], [green], [blue], game_number)\n",
    "    '''\n",
    "    game_number = int(regex.match(r'Game (\\d+)', line)[1])\n",
    "    red = list(map(int, regex.findall(r'(\\d+) red', line)))\n",
    "    green = list(map(int, regex.findall(r'(\\d+) green', line)))\n",
    "    blue = list(map(int, regex.findall(r'(\\d+) blue', line)))\n",
    "    game = (red, green, blue, game_number)\n",
    "    return game\n",
    "\n",
    "\n",
    "def possible(game):\n",
    "    #12 red cubes, 13 green cubes, and 14 blue cubes\n",
    "    red = all([True if red <= 12 else False for red in game[0]])\n",
    "    green = all([True if green <= 13 else False for green in game[1]])\n",
    "    blue = all([True if blue <= 14 else False for blue in game[2]])\n",
    "    return red and green and blue\n",
    "\n",
    "games = [parse_game(line) for line in lines]\n",
    "\n",
    "print('Part One: ', sum([game[3] for game in games if possible(game)]))\n",
    "print('Part Two: ', sum(max(game[0]) * max(game[1]) * max(game[2]) for game in games))\n"
   ]
  },
  {
   "cell_type": "markdown",
   "metadata": {},
   "source": [
    "# Day 3: Gear Ratios"
   ]
  },
  {
   "cell_type": "code",
   "execution_count": 5,
   "metadata": {},
   "outputs": [
    {
     "name": "stdout",
     "output_type": "stream",
     "text": [
      "Part One:  509115\n",
      "Part Two:  75220503\n"
     ]
    }
   ],
   "source": [
    "with Input(3) as f:\n",
    "    schematic = strip_lines(f)\n",
    "\n",
    "MAX = len(schematic)\n",
    "\n",
    "# vectors for adjacent cells\n",
    "neighbor_indexes = {(dy, dx) for dx,dy in itertools.permutations([-1,-1,0,1,1], 2)}\n",
    "\n",
    "def find_potential_parts(schematic):\n",
    "    '''\n",
    "    Find the x ranges of all parts, indexed by y\n",
    "    [[part, ...], ...]\n",
    "    '''\n",
    "    return [ list(regex.finditer('\\d+', line)) for line in schematic]\n",
    "\n",
    "def neighbors(schematic):\n",
    "    '''\n",
    "    Return the value of all neighboring cells\n",
    "    '''\n",
    "    return lambda i : [schematic[i[0] + dy][i[1] + dx] for dy,dx in neighbor_indexes if i[0]+ dy >= 0 and i[0]+ dy < MAX and i[1]+ dx >= 0 and i[1]+ dx < MAX]\n",
    "\n",
    "def neighbor_locations(schematic):\n",
    "    '''\n",
    "    Return the indexes of all neighboring cells\n",
    "    '''\n",
    "    return lambda i : [(i[0] + dy, i[1] + dx) for dy,dx in neighbor_indexes if i[0]+ dy >= 0 and i[0]+ dy < MAX and i[1]+ dx >= 0 and i[1]+ dx < MAX]\n",
    "\n",
    "get_neighbors = neighbors(schematic)\n",
    "get_neighbor_indexes = neighbor_locations(schematic)\n",
    "\n",
    "def valid_part(y, part):\n",
    "    '''\n",
    "    Does the part a y, part_x_range neighbor a symbol?\n",
    "    '''\n",
    "    part_range = range(part.start(), part.end())\n",
    "\n",
    "    for x in part_range:\n",
    "        neighbors =  get_neighbors((y, x))\n",
    "        for neighbor in neighbors:\n",
    "            if neighbor not in '0123456789.':\n",
    "                return True\n",
    "    return False\n",
    "\n",
    "def find_potential_gears(schematic):\n",
    "    '''\n",
    "    Find the (y,x) coordinates of all * characters\n",
    "    '''\n",
    "    return [(y,x) for y, line in enumerate(schematic) for x, i in enumerate(line) if i == '*']\n",
    "\n",
    "def find_neighboring_part_numbers(gear, parts_list):\n",
    "    '''\n",
    "    Find all the part numbers that neighbor a potential gear, valid gears will only have two neighboring parts\n",
    "    '''\n",
    "    neighboring_part_numbers = []\n",
    "    gear_neighbors = get_neighbor_indexes(gear)\n",
    "    for y, parts in enumerate(parts_list):\n",
    "        for part in parts:\n",
    "            part_range = range(part.start(), part.end())\n",
    "            for x in part_range:\n",
    "                if (y,x) in gear_neighbors:\n",
    "                    neighboring_part_numbers.append(int(part.group()))\n",
    "                    break\n",
    "    return neighboring_part_numbers\n",
    "\n",
    "# A bunch of junk follows\n",
    "\n",
    "potential_parts = find_potential_parts(schematic)\n",
    "valid_parts = [[part for part in part_list if valid_part(y, part)] for y, part_list in enumerate(potential_parts)]\n",
    "\n",
    "valid_part_sum = sum([int(part.group()) for parts in valid_parts for part in parts])\n",
    "\n",
    "potential_gears = find_potential_gears(schematic)\n",
    "potential_gear_neighboring_part_numbers = [find_neighboring_part_numbers(gear, valid_parts) for gear in potential_gears]\n",
    "\n",
    "valid_gear_neighboring_part_numbers = list(filter(lambda ls: len(ls) == 2, potential_gear_neighboring_part_numbers))\n",
    "\n",
    "gear_values = [functools.reduce(operator.mul, part_numbers, 1) for part_numbers in valid_gear_neighboring_part_numbers]\n",
    "valid_gear_sum = sum(gear_values)\n",
    "\n",
    "print('Part One: ', valid_part_sum)\n",
    "print('Part Two: ', valid_gear_sum)\n"
   ]
  },
  {
   "cell_type": "markdown",
   "metadata": {},
   "source": [
    "# Day 4: Scratchcards "
   ]
  },
  {
   "cell_type": "code",
   "execution_count": 130,
   "metadata": {},
   "outputs": [
    {
     "name": "stdout",
     "output_type": "stream",
     "text": [
      "Part One:  21088\n",
      "Part Two:  6874754\n"
     ]
    }
   ],
   "source": [
    "with Input(4) as f:\n",
    "    lines = strip_lines(f)\n",
    "\n",
    "Card = collections.namedtuple('Card', ['card_number', 'winning_numbers', 'numbers_you_have', 'value', 'matches', 'copies'])\n",
    "\n",
    "def parse_card(line):\n",
    "    '''\n",
    "    Turn a line into a Card\n",
    "    '''\n",
    "    card_number = int(regex.match(r'Card +(\\d+):', line).group(1))\n",
    "    winning_numbers = set(map(int, regex.findall(r':(.*)\\|', line)[0].split()))\n",
    "    numbers_you_have = set(map(int, regex.findall(r'\\|(.*)', line)[0].split()))\n",
    "\n",
    "    return Card(card_number, winning_numbers, numbers_you_have, 0, 0, 1)\n",
    "\n",
    "def assess_value(card):\n",
    "    '''\n",
    "    Calculate the value of a card, as well as the number of matches\n",
    "    '''\n",
    "    matches = len(card.winning_numbers.intersection(card.numbers_you_have))\n",
    "    winner = 1 if matches != 0 else 0\n",
    "    return card._replace(value=2 ** (matches - 1) * winner, matches= matches)\n",
    "\n",
    "\n",
    "# parse all the cards\n",
    "cards = [parse_card(line) for line in lines]\n",
    "\n",
    "#value all the cards\n",
    "valued_cards = list(map(assess_value, cards))\n",
    "\n",
    "# sum the values of the cards\n",
    "part_one = sum([card.value for card in valued_cards])\n",
    "\n",
    "# for each card, add to cards # of copies as necessary\n",
    "for i, card in enumerate(valued_cards):\n",
    "    # add this cards number of copies to subsequent cards based on the number of matches\n",
    "    for idx in range(i+1, i+1+card.matches):\n",
    "        valued_cards[idx] = valued_cards[idx]._replace(copies=valued_cards[idx].copies+card.copies)\n",
    "\n",
    "part_two = sum([card.copies for card in valued_cards])\n",
    "\n",
    "\n",
    "print('Part One: ', int(part_one))\n",
    "print('Part Two: ', part_two)\n"
   ]
  }
 ],
 "metadata": {
  "kernelspec": {
   "display_name": "Python 3 (ipykernel)",
   "language": "python",
   "name": "python3"
  },
  "language_info": {
   "codemirror_mode": {
    "name": "ipython",
    "version": 3
   },
   "file_extension": ".py",
   "mimetype": "text/x-python",
   "name": "python",
   "nbconvert_exporter": "python",
   "pygments_lexer": "ipython3",
   "version": "3.11.3"
  },
  "orig_nbformat": 4,
  "vscode": {
   "interpreter": {
    "hash": "ead1b95f633dc9c51826328e1846203f51a198c6fb5f2884a80417ba131d4e82"
   }
  }
 },
 "nbformat": 4,
 "nbformat_minor": 2
}
