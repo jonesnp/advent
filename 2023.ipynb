{
 "cells": [
  {
   "cell_type": "code",
   "execution_count": 97,
   "metadata": {},
   "outputs": [],
   "source": [
    "import matplotlib.pyplot as plt\n",
    "import matplotlib.animation as animation\n",
    "import itertools\n",
    "import operator\n",
    "import collections\n",
    "import random\n",
    "import functools\n",
    "import statistics\n",
    "import math\n",
    "import regex\n",
    "import pprint as pp\n",
    "import networkx as nx\n",
    "\n",
    "\n",
    "plt.rc('image', cmap='viridis')\n",
    "plt.style.use('dark_background')\n",
    "\n",
    "\n",
    "def Input(day):\n",
    "    \"Open input file for the day\"\n",
    "    file = '2023/input{0}.txt'.format(day)\n",
    "    return open(file)\n",
    "\n",
    "def strip_lines(f):\n",
    "    return [l.strip() for l in f.readlines()] \n"
   ]
  },
  {
   "cell_type": "markdown",
   "metadata": {},
   "source": [
    "## Day 1: Trebuchet?!"
   ]
  },
  {
   "cell_type": "code",
   "execution_count": 2,
   "metadata": {},
   "outputs": [
    {
     "name": "stdout",
     "output_type": "stream",
     "text": [
      "Part One:  55172\n",
      "Part Two:  54925\n"
     ]
    }
   ],
   "source": [
    "with Input(1) as f:\n",
    "    lines = strip_lines(f)\n",
    "\n",
    "def calibrate_one(line):\n",
    "    digits = regex.findall('\\d', line)\n",
    "    return int(digits[0]) * 10 + int(digits[-1])\n",
    "\n",
    "def calibrate_two(line):\n",
    "    digits = regex.findall('\\d|one|two|three|four|five|six|seven|eight|nine', line, overlapped=True)\n",
    "    return word_to_int(digits[0]) * 10 + word_to_int(digits[-1])\n",
    "\n",
    "def word_to_int(word):\n",
    "    match word:\n",
    "        case 'one':\n",
    "            return 1\n",
    "        case 'two':\n",
    "            return 2\n",
    "        case 'three':\n",
    "            return 3\n",
    "        case 'four':\n",
    "            return 4\n",
    "        case 'five':\n",
    "            return 5\n",
    "        case 'six':\n",
    "            return 6\n",
    "        case 'seven':\n",
    "            return 7\n",
    "        case 'eight':\n",
    "            return 8\n",
    "        case 'nine':\n",
    "            return 9\n",
    "        case _:\n",
    "            return int(word)\n",
    "\n",
    "print('Part One: ', sum(map(calibrate_one, lines)))\n",
    "print('Part Two: ', sum(map(calibrate_two, lines)))\n"
   ]
  },
  {
   "cell_type": "markdown",
   "metadata": {},
   "source": [
    "# Day 2: Cube Conundrum"
   ]
  },
  {
   "cell_type": "code",
   "execution_count": 115,
   "metadata": {},
   "outputs": [
    {
     "name": "stdout",
     "output_type": "stream",
     "text": [
      "Part One:  2278\n",
      "Part Two:  67953\n"
     ]
    }
   ],
   "source": [
    "with Input(2) as f:\n",
    "    lines = strip_lines(f)\n",
    "\n",
    "def parse_game(line):\n",
    "    \"\"\" \n",
    "    Find all the numbers for each color and return a tuple\n",
    "    of ([red], [green], [blue], game_number)\n",
    "    \"\"\"\n",
    "    game_number = int(regex.match(r'Game (\\d+)', line)[1])\n",
    "    red = list(map(int, regex.findall(r'(\\d+) red', line)))\n",
    "    green = list(map(int, regex.findall(r'(\\d+) green', line)))\n",
    "    blue = list(map(int, regex.findall(r'(\\d+) blue', line)))\n",
    "    game = (red, green, blue, game_number)\n",
    "    return game\n",
    "\n",
    "\n",
    "def possible(game):\n",
    "    #12 red cubes, 13 green cubes, and 14 blue cubes\n",
    "    red = all([True if red <= 12 else False for red in game[0]])\n",
    "    green = all([True if green <= 13 else False for green in game[1]])\n",
    "    blue = all([True if blue <= 14 else False for blue in game[2]])\n",
    "    return red and green and blue\n",
    "\n",
    "games = [parse_game(line) for line in lines]\n",
    "\n",
    "print('Part One: ', sum([game[3] for game in games if possible(game)]))\n",
    "print('Part Two: ', sum(max(game[0]) * max(game[1]) * max(game[2]) for game in games))"
   ]
  }
 ],
 "metadata": {
  "kernelspec": {
   "display_name": "Python 3 (ipykernel)",
   "language": "python",
   "name": "python3"
  },
  "language_info": {
   "codemirror_mode": {
    "name": "ipython",
    "version": 3
   },
   "file_extension": ".py",
   "mimetype": "text/x-python",
   "name": "python",
   "nbconvert_exporter": "python",
   "pygments_lexer": "ipython3",
   "version": "3.11.6"
  },
  "orig_nbformat": 4,
  "vscode": {
   "interpreter": {
    "hash": "ead1b95f633dc9c51826328e1846203f51a198c6fb5f2884a80417ba131d4e82"
   }
  }
 },
 "nbformat": 4,
 "nbformat_minor": 2
}
