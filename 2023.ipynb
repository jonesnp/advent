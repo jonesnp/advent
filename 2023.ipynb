{
 "cells": [
  {
   "cell_type": "code",
   "execution_count": 2,
   "metadata": {},
   "outputs": [],
   "source": [
    "import matplotlib.pyplot as plt\n",
    "import matplotlib.animation as animation\n",
    "import itertools\n",
    "import collections\n",
    "import random\n",
    "import functools\n",
    "import statistics\n",
    "import math\n",
    "import regex\n",
    "import pprint as pp\n",
    "import networkx as nx\n",
    "\n",
    "\n",
    "plt.rc('image', cmap='viridis')\n",
    "plt.style.use('dark_background')\n",
    "\n",
    "\n",
    "def Input(day):\n",
    "    \"Open input file for the day\"\n",
    "    file = '2023/input{0}.txt'.format(day)\n",
    "    return open(file)\n",
    "\n",
    "def strip_lines(f):\n",
    "    return [l.strip() for l in f.readlines()] \n"
   ]
  },
  {
   "cell_type": "markdown",
   "metadata": {},
   "source": [
    "## Day 1: Trebuchet?!"
   ]
  },
  {
   "cell_type": "code",
   "execution_count": 3,
   "metadata": {},
   "outputs": [
    {
     "name": "stdout",
     "output_type": "stream",
     "text": [
      "Part One:  55172\n",
      "Part Two:  54925\n"
     ]
    }
   ],
   "source": [
    "with Input(1) as f:\n",
    "    lines = strip_lines(f)\n",
    "\n",
    "def calibrate_one(line):\n",
    "    digits = regex.findall('\\d', line)\n",
    "    return int(digits[0]) * 10 + int(digits[-1])\n",
    "\n",
    "def calibrate_two(line):\n",
    "    digits = regex.findall('\\d|one|two|three|four|five|six|seven|eight|nine', line, overlapped=True)\n",
    "    return word_to_int(digits[0]) * 10 + word_to_int(digits[-1])\n",
    "\n",
    "def word_to_int(word):\n",
    "    match word:\n",
    "        case 'one':\n",
    "            return 1\n",
    "        case 'two':\n",
    "            return 2\n",
    "        case 'three':\n",
    "            return 3\n",
    "        case 'four':\n",
    "            return 4\n",
    "        case 'five':\n",
    "            return 5\n",
    "        case 'six':\n",
    "            return 6\n",
    "        case 'seven':\n",
    "            return 7\n",
    "        case 'eight':\n",
    "            return 8\n",
    "        case 'nine':\n",
    "            return 9\n",
    "        case _:\n",
    "            return int(word)\n",
    "\n",
    "print('Part One: ', sum(map(calibrate_one, lines)))\n",
    "print('Part Two: ', sum(map(calibrate_two, lines)))\n"
   ]
  }
 ],
 "metadata": {
  "kernelspec": {
   "display_name": "Python 3 (ipykernel)",
   "language": "python",
   "name": "python3"
  },
  "language_info": {
   "codemirror_mode": {
    "name": "ipython",
    "version": 3
   },
   "file_extension": ".py",
   "mimetype": "text/x-python",
   "name": "python",
   "nbconvert_exporter": "python",
   "pygments_lexer": "ipython3",
   "version": "3.11.3"
  },
  "orig_nbformat": 4,
  "vscode": {
   "interpreter": {
    "hash": "ead1b95f633dc9c51826328e1846203f51a198c6fb5f2884a80417ba131d4e82"
   }
  }
 },
 "nbformat": 4,
 "nbformat_minor": 2
}
