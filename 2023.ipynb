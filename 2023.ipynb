{
 "cells": [
  {
   "cell_type": "code",
   "execution_count": 10,
   "metadata": {},
   "outputs": [],
   "source": [
    "import collections\n",
    "import functools\n",
    "import itertools\n",
    "import math\n",
    "import matplotlib.animation as animation\n",
    "import matplotlib.pyplot as plt\n",
    "import networkx as nx\n",
    "import operator\n",
    "import pprint as pp\n",
    "import pyvis\n",
    "import random\n",
    "import random\n",
    "import regex\n",
    "import statistics\n",
    "\n",
    "\n",
    "plt.rc('image', cmap='viridis')\n",
    "plt.style.use('dark_background')\n",
    "\n",
    "\n",
    "def Input(day):\n",
    "    'Open input file for the day'\n",
    "    file = '2023/input{0}.txt'.format(day)\n",
    "    return open(file)\n",
    "\n",
    "def strip_lines(f):\n",
    "    return [l.strip() for l in f.readlines()] \n"
   ]
  },
  {
   "cell_type": "markdown",
   "metadata": {},
   "source": [
    "## Day 1: Trebuchet?!"
   ]
  },
  {
   "cell_type": "code",
   "execution_count": 11,
   "metadata": {},
   "outputs": [
    {
     "name": "stdout",
     "output_type": "stream",
     "text": [
      "Part One:  55172\n",
      "Part Two:  54925\n"
     ]
    }
   ],
   "source": [
    "with Input(1) as f:\n",
    "    lines = strip_lines(f)\n",
    "\n",
    "def calibrate_one(line):\n",
    "    digits = regex.findall('\\d', line)\n",
    "    return int(digits[0]) * 10 + int(digits[-1])\n",
    "\n",
    "def calibrate_two(line):\n",
    "    digits = regex.findall('\\d|one|two|three|four|five|six|seven|eight|nine', line, overlapped=True)\n",
    "    return word_to_int(digits[0]) * 10 + word_to_int(digits[-1])\n",
    "\n",
    "def word_to_int(word):\n",
    "    match word:\n",
    "        case 'one':\n",
    "            return 1\n",
    "        case 'two':\n",
    "            return 2\n",
    "        case 'three':\n",
    "            return 3\n",
    "        case 'four':\n",
    "            return 4\n",
    "        case 'five':\n",
    "            return 5\n",
    "        case 'six':\n",
    "            return 6\n",
    "        case 'seven':\n",
    "            return 7\n",
    "        case 'eight':\n",
    "            return 8\n",
    "        case 'nine':\n",
    "            return 9\n",
    "        case _:\n",
    "            return int(word)\n",
    "\n",
    "print('Part One: ', sum(map(calibrate_one, lines)))\n",
    "print('Part Two: ', sum(map(calibrate_two, lines)))\n"
   ]
  },
  {
   "cell_type": "markdown",
   "metadata": {},
   "source": [
    "## Day 2: Cube Conundrum"
   ]
  },
  {
   "cell_type": "code",
   "execution_count": 12,
   "metadata": {},
   "outputs": [
    {
     "name": "stdout",
     "output_type": "stream",
     "text": [
      "Part One:  2278\n",
      "Part Two:  67953\n"
     ]
    }
   ],
   "source": [
    "with Input(2) as f:\n",
    "    lines = strip_lines(f)\n",
    "\n",
    "def parse_game(line):\n",
    "    ''' \n",
    "    Find all the numbers for each color and return a tuple\n",
    "    of ([red], [green], [blue], game_number)\n",
    "    '''\n",
    "    game_number = int(regex.match(r'Game (\\d+)', line)[1])\n",
    "    red = list(map(int, regex.findall(r'(\\d+) red', line)))\n",
    "    green = list(map(int, regex.findall(r'(\\d+) green', line)))\n",
    "    blue = list(map(int, regex.findall(r'(\\d+) blue', line)))\n",
    "    game = (red, green, blue, game_number)\n",
    "    return game\n",
    "\n",
    "\n",
    "def possible(game):\n",
    "    #12 red cubes, 13 green cubes, and 14 blue cubes\n",
    "    red = all([True if red <= 12 else False for red in game[0]])\n",
    "    green = all([True if green <= 13 else False for green in game[1]])\n",
    "    blue = all([True if blue <= 14 else False for blue in game[2]])\n",
    "    return red and green and blue\n",
    "\n",
    "games = [parse_game(line) for line in lines]\n",
    "\n",
    "print('Part One: ', sum([game[3] for game in games if possible(game)]))\n",
    "print('Part Two: ', sum(max(game[0]) * max(game[1]) * max(game[2]) for game in games))\n"
   ]
  },
  {
   "cell_type": "markdown",
   "metadata": {},
   "source": [
    "## Day 3: Gear Ratios"
   ]
  },
  {
   "cell_type": "code",
   "execution_count": 13,
   "metadata": {},
   "outputs": [
    {
     "name": "stdout",
     "output_type": "stream",
     "text": [
      "Part One:  509115\n",
      "Part Two:  75220503\n"
     ]
    }
   ],
   "source": [
    "with Input(3) as f:\n",
    "    schematic = strip_lines(f)\n",
    "\n",
    "MAX = len(schematic)\n",
    "\n",
    "# vectors for adjacent cells\n",
    "neighbor_indexes = {(dy, dx) for dx,dy in itertools.permutations([-1,-1,0,1,1], 2)}\n",
    "\n",
    "def find_potential_parts(schematic):\n",
    "    '''\n",
    "    Find the x ranges of all parts, indexed by y\n",
    "    [[part, ...], ...]\n",
    "    '''\n",
    "    return [ list(regex.finditer('\\d+', line)) for line in schematic]\n",
    "\n",
    "def neighbors(schematic):\n",
    "    '''\n",
    "    Return the value of all neighboring cells\n",
    "    '''\n",
    "    return lambda i : [schematic[i[0] + dy][i[1] + dx] for dy,dx in neighbor_indexes if i[0]+ dy >= 0 and i[0]+ dy < MAX and i[1]+ dx >= 0 and i[1]+ dx < MAX]\n",
    "\n",
    "def neighbor_locations(schematic):\n",
    "    '''\n",
    "    Return the indexes of all neighboring cells\n",
    "    '''\n",
    "    return lambda i : [(i[0] + dy, i[1] + dx) for dy,dx in neighbor_indexes if i[0]+ dy >= 0 and i[0]+ dy < MAX and i[1]+ dx >= 0 and i[1]+ dx < MAX]\n",
    "\n",
    "get_neighbors = neighbors(schematic)\n",
    "get_neighbor_indexes = neighbor_locations(schematic)\n",
    "\n",
    "def valid_part(y, part):\n",
    "    '''\n",
    "    Does the part a y, part_x_range neighbor a symbol?\n",
    "    '''\n",
    "    part_range = range(part.start(), part.end())\n",
    "\n",
    "    for x in part_range:\n",
    "        neighbors =  get_neighbors((y, x))\n",
    "        for neighbor in neighbors:\n",
    "            if neighbor not in '0123456789.':\n",
    "                return True\n",
    "    return False\n",
    "\n",
    "def find_potential_gears(schematic):\n",
    "    '''\n",
    "    Find the (y,x) coordinates of all * characters\n",
    "    '''\n",
    "    return [(y,x) for y, line in enumerate(schematic) for x, i in enumerate(line) if i == '*']\n",
    "\n",
    "def find_neighboring_part_numbers(gear, parts_list):\n",
    "    '''\n",
    "    Find all the part numbers that neighbor a potential gear, valid gears will only have two neighboring parts\n",
    "    '''\n",
    "    neighboring_part_numbers = []\n",
    "    gear_neighbors = get_neighbor_indexes(gear)\n",
    "    for y, parts in enumerate(parts_list):\n",
    "        for part in parts:\n",
    "            part_range = range(part.start(), part.end())\n",
    "            for x in part_range:\n",
    "                if (y,x) in gear_neighbors:\n",
    "                    neighboring_part_numbers.append(int(part.group()))\n",
    "                    break\n",
    "    return neighboring_part_numbers\n",
    "\n",
    "# A bunch of junk follows\n",
    "\n",
    "potential_parts = find_potential_parts(schematic)\n",
    "valid_parts = [[part for part in part_list if valid_part(y, part)] for y, part_list in enumerate(potential_parts)]\n",
    "\n",
    "valid_part_sum = sum([int(part.group()) for parts in valid_parts for part in parts])\n",
    "\n",
    "potential_gears = find_potential_gears(schematic)\n",
    "potential_gear_neighboring_part_numbers = [find_neighboring_part_numbers(gear, valid_parts) for gear in potential_gears]\n",
    "\n",
    "valid_gear_neighboring_part_numbers = list(filter(lambda ls: len(ls) == 2, potential_gear_neighboring_part_numbers))\n",
    "\n",
    "gear_values = [functools.reduce(operator.mul, part_numbers, 1) for part_numbers in valid_gear_neighboring_part_numbers]\n",
    "valid_gear_sum = sum(gear_values)\n",
    "\n",
    "print('Part One: ', valid_part_sum)\n",
    "print('Part Two: ', valid_gear_sum)\n"
   ]
  },
  {
   "cell_type": "markdown",
   "metadata": {},
   "source": [
    "## Day 4: Scratchcards "
   ]
  },
  {
   "cell_type": "code",
   "execution_count": 14,
   "metadata": {},
   "outputs": [
    {
     "name": "stdout",
     "output_type": "stream",
     "text": [
      "Part One:  21088\n",
      "Part Two:  6874754\n"
     ]
    }
   ],
   "source": [
    "with Input(4) as f:\n",
    "    lines = strip_lines(f)\n",
    "\n",
    "Card = collections.namedtuple('Card', ['card_number', 'winning_numbers', 'numbers_you_have', 'value', 'matches', 'copies'])\n",
    "\n",
    "def parse_card(line):\n",
    "    '''\n",
    "    Turn a line into a Card\n",
    "    '''\n",
    "    card_number = int(regex.match(r'Card +(\\d+):', line).group(1))\n",
    "    winning_numbers = set(map(int, regex.findall(r':(.*)\\|', line)[0].split()))\n",
    "    numbers_you_have = set(map(int, regex.findall(r'\\|(.*)', line)[0].split()))\n",
    "\n",
    "    return Card(card_number, winning_numbers, numbers_you_have, 0, 0, 1)\n",
    "\n",
    "def assess_value(card):\n",
    "    '''\n",
    "    Calculate the value of a card, as well as the number of matches\n",
    "    '''\n",
    "    matches = len(card.winning_numbers.intersection(card.numbers_you_have))\n",
    "    winner = 1 if matches != 0 else 0\n",
    "    return card._replace(value=2 ** (matches - 1) * winner, matches= matches)\n",
    "\n",
    "\n",
    "# parse all the cards\n",
    "cards = [parse_card(line) for line in lines]\n",
    "\n",
    "#value all the cards\n",
    "valued_cards = list(map(assess_value, cards))\n",
    "\n",
    "# sum the values of the cards\n",
    "part_one = sum([card.value for card in valued_cards])\n",
    "\n",
    "# for each card, add to cards # of copies as necessary\n",
    "for i, card in enumerate(valued_cards):\n",
    "    # add this cards number of copies to subsequent cards based on the number of matches\n",
    "    for idx in range(i+1, i+1+card.matches):\n",
    "        valued_cards[idx] = valued_cards[idx]._replace(copies=valued_cards[idx].copies+card.copies)\n",
    "\n",
    "part_two = sum([card.copies for card in valued_cards])\n",
    "\n",
    "\n",
    "print('Part One: ', int(part_one))\n",
    "print('Part Two: ', part_two)\n"
   ]
  },
  {
   "cell_type": "markdown",
   "metadata": {},
   "source": [
    "## Day 5: If You Give A Seed A Fertilizer"
   ]
  },
  {
   "cell_type": "code",
   "execution_count": 15,
   "metadata": {},
   "outputs": [
    {
     "name": "stdout",
     "output_type": "stream",
     "text": [
      "Part One:  227653707\n",
      "Part Two:  227653707\n"
     ]
    }
   ],
   "source": [
    "with Input(5) as f:\n",
    "    text = f.read()\n",
    "\n",
    "# Stole this recipe rather than update to python3.12\n",
    "def batched(iterable, n):\n",
    "    # batched('ABCDEFG', 3) --> ABC DEF G\n",
    "    if n < 1:\n",
    "        raise ValueError('n must be at least one')\n",
    "    it = iter(iterable)\n",
    "    while batch := tuple(itertools.islice(it, n)):\n",
    "        yield batch\n",
    "\n",
    "\n",
    "def map_to_range(i, range_maps):\n",
    "    for range_map in range_maps:\n",
    "        if i in range(range_map[1], range_map[1]+range_map[2]):\n",
    "            return i + range_map[0] - range_map[1]\n",
    "    return i\n",
    "\n",
    "def reverse_map_to_range(i, range_maps):\n",
    "    for range_map in range_maps:\n",
    "        if i in range(range_map[0], range_map[0]+range_map[2]):\n",
    "            return i + range_map[1] - range_map[0]\n",
    "    return i\n",
    "\n",
    "def seeds_contain(i, seed_pairs):\n",
    "    for seed_range in seed_pairs:\n",
    "        if i in range(seed_range[0], seed_range[0]+seed_range[1]):\n",
    "            return True\n",
    "    return False\n",
    "\n",
    "seeds = list(map(int,regex.findall(r'seeds: ((?:\\d+ ?)+)', text)[0].split()))\n",
    "\n",
    "seed_to_soil = list(map(int,regex.findall(r'seed-to-soil map:\\n((?:\\d+[ \\n]?)+)', text)[0].split()))\n",
    "seed_to_soil = list(batched(seed_to_soil, 3))\n",
    "\n",
    "soil_to_fertilizer = list(map(int,regex.findall(r'soil-to-fertilizer map:\\n((?:\\d+[ \\n]?)+)', text)[0].split()))\n",
    "soil_to_fertilizer = list(batched(soil_to_fertilizer, 3))\n",
    "\n",
    "fertilizer_to_water = list(map(int,regex.findall(r'fertilizer-to-water map:\\n((?:\\d+[ \\n]?)+)', text)[0].split()))\n",
    "fertilizer_to_water = list(batched(fertilizer_to_water, 3))\n",
    "\n",
    "water_to_light = list(map(int,regex.findall(r'water-to-light map:\\n((?:\\d+[ \\n]?)+)', text)[0].split()))\n",
    "water_to_light = list(batched(water_to_light, 3))\n",
    "\n",
    "light_to_temperature = list(map(int,regex.findall(r'light-to-temperature map:\\n((?:\\d+[ \\n]?)+)', text)[0].split()))\n",
    "light_to_temperature = list(batched(light_to_temperature, 3))\n",
    "\n",
    "temperature_to_humidity = list(map(int,regex.findall(r'temperature-to-humidity map:\\n((?:\\d+[ \\n]?)+)', text)[0].split()))\n",
    "temperature_to_humidity = list(batched(temperature_to_humidity, 3))\n",
    "\n",
    "humidity_to_location = list(map(int,regex.findall(r'humidity-to-location map:\\n((?:\\d+[ \\n]?)+)', text)[0].split()))\n",
    "humidity_to_location = list(batched(humidity_to_location, 3))\n",
    "\n",
    "min_location = float('inf')\n",
    "for seed in seeds:\n",
    "    soil = map_to_range(seed, seed_to_soil)\n",
    "    fertilizer = map_to_range(soil, soil_to_fertilizer)\n",
    "    water = map_to_range(fertilizer, fertilizer_to_water)\n",
    "    light = map_to_range(water, water_to_light)\n",
    "    temperature = map_to_range(light, light_to_temperature)\n",
    "    humidity = map_to_range(temperature, temperature_to_humidity)\n",
    "    location = map_to_range(humidity, humidity_to_location)\n",
    "    if location < min_location:\n",
    "        min_location = location\n",
    "\n",
    "print('Part One: ', min_location)\n",
    "\n",
    "'''\n",
    "This takes forever.\n",
    "'''\n",
    "# seed_pairs = list(batched(seeds, 2))\n",
    "\n",
    "# min_location = float('inf')\n",
    "# for location in itertools.count(0):\n",
    "#     humidity = reverse_map_to_range(location, humidity_to_location)\n",
    "#     temperature = reverse_map_to_range(humidity, temperature_to_humidity)\n",
    "#     light = reverse_map_to_range(temperature, light_to_temperature)\n",
    "#     water = reverse_map_to_range(light, water_to_light)\n",
    "#     fertilizer = reverse_map_to_range(water, fertilizer_to_water)\n",
    "#     soil = reverse_map_to_range(fertilizer, soil_to_fertilizer)\n",
    "#     seed = reverse_map_to_range(soil, seed_to_soil)\n",
    "\n",
    "#     if seeds_contain(seed, seed_pairs):\n",
    "#         min_location = location\n",
    "#         break\n",
    "\n",
    "print('Part Two: ', min_location)\n"
   ]
  },
  {
   "cell_type": "markdown",
   "metadata": {},
   "source": [
    "## Day 6: Wait For It"
   ]
  },
  {
   "cell_type": "code",
   "execution_count": 16,
   "metadata": {},
   "outputs": [
    {
     "name": "stdout",
     "output_type": "stream",
     "text": [
      "Part One: 1195150\n"
     ]
    }
   ],
   "source": [
    "with Input(6) as f:\n",
    "    lines = strip_lines(f)\n",
    "\n",
    "times = list(map(int,regex.findall(r'Time:(.*)', lines[0])[0].split()))\n",
    "distances = list(map(int,regex.findall(r'Distance:(.*)', lines[1])[0].split()))\n",
    "\n",
    "big_time = int(''.join(list(map(str, times))))\n",
    "big_distance = int(''.join(list(map(str, distances))))\n",
    "big_race = [(big_time, big_distance)]\n",
    "\n",
    "races = list(itertools.zip_longest(times, distances))\n",
    "\n",
    "def multiply_races(races):\n",
    "    '''\n",
    "    https://oeis.org/A004247\n",
    "    '''\n",
    "    counts = []\n",
    "    for race in races:\n",
    "        counts.append(len(list(filter(lambda x: x > race[1], [i * (race[0] - i) for i in range(0, race[0])]))))\n",
    "    return functools.reduce(operator.mul,counts)\n",
    "\n",
    "print('Part One:', multiply_races(races))\n",
    "# Fairly slow\n",
    "# print('Part Two:', multiply_races(big_race))\n"
   ]
  },
  {
   "cell_type": "markdown",
   "metadata": {},
   "source": [
    "# Day 7: Camel Cards"
   ]
  },
  {
   "cell_type": "code",
   "execution_count": 17,
   "metadata": {},
   "outputs": [
    {
     "name": "stdout",
     "output_type": "stream",
     "text": [
      "Part One: 248217452\n",
      "Part Two: 245576185\n"
     ]
    }
   ],
   "source": [
    "with Input(7) as f:\n",
    "    lines = strip_lines(f)\n",
    "\n",
    "hands_and_bids = [ tuple(line.split()) for line in lines]\n",
    "\n",
    "cards = \"AKQJT98765432\"\n",
    "values= [0xE, 0xD, 0xC, 0xB, 0xA, 0x9, 0x8, 0x7, 0x6, 0x5, 0x4, 0x3, 0x2]\n",
    "\n",
    "card_values = dict(zip(cards, values))\n",
    "\n",
    "\n",
    "def rank_hand(hand_and_bid):\n",
    "    sorted_hand = sorted(hand_and_bid[0])\n",
    "    type = 1\n",
    "    kinds = []\n",
    "    for _, g in itertools.groupby(sorted_hand):\n",
    "        kinds.append(len(list(g)))\n",
    "    if 5 in kinds:\n",
    "        type = 5\n",
    "    elif 4 in kinds:\n",
    "        type = 4\n",
    "    elif 3 in kinds:\n",
    "        if 2 in kinds:\n",
    "            type = 3.5\n",
    "        else:\n",
    "            type = 3\n",
    "    elif 2 in kinds:\n",
    "        if 2 == len([kind for kind in kinds if kind == 2]):\n",
    "            type = 2.5\n",
    "        else:\n",
    "            type = 2\n",
    "    return [type]  + [card_values[card] for card in hand_and_bid[0]]\n",
    "\n",
    "sorted_hands_and_bids = sorted(hands_and_bids, key=rank_hand)\n",
    "winnings = 0\n",
    "for i, (hand, bid) in enumerate(sorted_hands_and_bids):\n",
    "    winnings += int(bid) * (i + 1)\n",
    "\n",
    "print('Part One:', winnings)\n",
    "\n",
    "card_values['J'] = 0x1\n",
    "\n",
    "def rank_hand_with_jokers(hand_and_bid):\n",
    "    sorted_hand = sorted(hand_and_bid[0])\n",
    "    type = 1\n",
    "    kinds = []\n",
    "    num_jokers = len([card for card in sorted_hand if card == 'J'])\n",
    "    kinds.append(0) # Make sure it's not empty in the case of JJJJJ\n",
    "    for _, g in itertools.groupby([card for card in sorted_hand if card != 'J']):\n",
    "        kinds.append(len(list(g)))\n",
    "\n",
    "    kinds = sorted(kinds, reverse=True)\n",
    "    if kinds[0] + num_jokers >= 5:\n",
    "        type = 5\n",
    "    elif kinds[0] + num_jokers == 4:\n",
    "        type = 4\n",
    "    elif kinds[0] + num_jokers >= 3:\n",
    "        if kinds[1] == 2:\n",
    "            type = 3.5\n",
    "        else:\n",
    "            type = 3\n",
    "    elif kinds[0] + num_jokers == 2:\n",
    "        if kinds[1] == 2:\n",
    "            type = 2.5\n",
    "        else:\n",
    "            type = 2\n",
    "    return [type]  + [card_values[card] for card in hand_and_bid[0]]\n",
    "\n",
    "sorted_hands_and_bids = sorted(hands_and_bids, key=rank_hand_with_jokers)\n",
    "winnings = 0\n",
    "for i, (hand, bid) in enumerate(sorted_hands_and_bids):\n",
    "    winnings += int(bid) * (i + 1)\n",
    "\n",
    "print('Part Two:', winnings)\n"
   ]
  },
  {
   "cell_type": "markdown",
   "metadata": {},
   "source": [
    "# Day 8: Haunted Wasteland"
   ]
  },
  {
   "cell_type": "code",
   "execution_count": 36,
   "metadata": {},
   "outputs": [
    {
     "name": "stdout",
     "output_type": "stream",
     "text": [
      "Part One: 17287\n",
      "Part Two: 18625484023687\n"
     ]
    }
   ],
   "source": [
    "with Input(8) as f:\n",
    "    lines = strip_lines(f)\n",
    "\n",
    "instructions = lines[0]\n",
    "\n",
    "# Build network graph\n",
    "network = dict()\n",
    "for line in lines[2:]:\n",
    "    matches = regex.findall(r'[A-Z0-9]{3}', line)\n",
    "    network[matches[0]] = {'L': matches[1], 'R': matches[2]}\n",
    "\n",
    "def solver(node, endFn):\n",
    "    '''\n",
    "    Apply the full set of instructions until the endFn is satisfied\n",
    "    '''\n",
    "    current = node\n",
    "    count = 0\n",
    "    while endFn(current):\n",
    "        for instruction in instructions:\n",
    "            current = network[current][instruction]\n",
    "            count += 1\n",
    "    return count\n",
    "\n",
    "endsZ = lambda x: x[-1] != 'Z' # Ends in 'Z'\n",
    "isZZZ = lambda x: x != 'ZZZ' # is 'ZZZ'\n",
    "\n",
    "start_nodes = [node for node in network if node[-1] == 'A']\n",
    "solve_lengths = [solver(node, endsZ) for node in start_nodes]\n",
    "\n",
    "print('Part One:', solver('AAA', isZZZ))\n",
    "print('Part Two:', math.lcm(*solve_lengths))"
   ]
  },
  {
   "cell_type": "markdown",
   "metadata": {},
   "source": [
    "# Day 9: Mirage Maintenance"
   ]
  },
  {
   "cell_type": "code",
   "execution_count": 105,
   "metadata": {},
   "outputs": [
    {
     "name": "stdout",
     "output_type": "stream",
     "text": [
      "Part One: 1980437560\n",
      "Part Two: 977\n"
     ]
    }
   ],
   "source": [
    "with Input(9) as f:\n",
    "    lines = strip_lines(f)\n",
    "\n",
    "lines = [line.split() for line in lines]\n",
    "sequences = [[int(i) for i in line] for line in lines]\n",
    "\n",
    "\n",
    "def next_value(seq):\n",
    "    diffs = collections.deque([seq])\n",
    "    while True:\n",
    "        diffs.appendleft([b - a for (a,b) in itertools.pairwise(diffs[0])])\n",
    "        if not any(diffs[0]):\n",
    "            break\n",
    "\n",
    "    for i, diff in enumerate(diffs):\n",
    "        if i == len(diffs) - 1:\n",
    "            break\n",
    "        diffs[i+1].append(diffs[i+1][-1] + diff[-1])\n",
    "    \n",
    "    return diffs[-1][-1]\n",
    "\n",
    "def prev_value(seq):\n",
    "    diffs = collections.deque([collections.deque(seq)])\n",
    "    while True:\n",
    "        diffs.appendleft(collections.deque([b - a for (a,b) in itertools.pairwise(diffs[0])]))\n",
    "        if not any(diffs[0]):\n",
    "            break\n",
    "\n",
    "    for i, diff in enumerate(diffs):\n",
    "        if i == len(diffs) - 1:\n",
    "            break\n",
    "        diffs[i+1].appendleft(diffs[i+1][0] - diff[0])\n",
    "        \n",
    "    return diffs[-1][0]\n",
    "\n",
    "part_one = sum([next_value(seq) for seq in sequences])\n",
    "part_two = sum([prev_value(seq) for seq in sequences])\n",
    "print('Part One:', part_one)\n",
    "print('Part Two:', part_two)"
   ]
  }
 ],
 "metadata": {
  "kernelspec": {
   "display_name": "Python 3 (ipykernel)",
   "language": "python",
   "name": "python3"
  },
  "language_info": {
   "codemirror_mode": {
    "name": "ipython",
    "version": 3
   },
   "file_extension": ".py",
   "mimetype": "text/x-python",
   "name": "python",
   "nbconvert_exporter": "python",
   "pygments_lexer": "ipython3",
   "version": "3.11.3"
  },
  "orig_nbformat": 4,
  "vscode": {
   "interpreter": {
    "hash": "ead1b95f633dc9c51826328e1846203f51a198c6fb5f2884a80417ba131d4e82"
   }
  }
 },
 "nbformat": 4,
 "nbformat_minor": 2
}
