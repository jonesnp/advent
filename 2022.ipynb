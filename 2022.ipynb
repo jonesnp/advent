{
 "cells": [
  {
   "cell_type": "code",
   "execution_count": 1,
   "metadata": {},
   "outputs": [],
   "source": [
    "import matplotlib.pyplot as plt\n",
    "import matplotlib.animation as animation\n",
    "import itertools\n",
    "import collections\n",
    "import random\n",
    "import functools\n",
    "import statistics\n",
    "import math\n",
    "import re\n",
    "import pprint as pp\n",
    "import networkx as nx\n",
    "\n",
    "\n",
    "plt.rc('image', cmap='viridis')\n",
    "plt.style.use('dark_background')\n",
    "\n",
    "\n",
    "def Input(day):\n",
    "    \"Open input file for the day\"\n",
    "    file = '2022/input{0}.txt'.format(day)\n",
    "    return open(file)\n"
   ]
  },
  {
   "cell_type": "markdown",
   "metadata": {},
   "source": [
    "## Day 1: Calorie Counting"
   ]
  },
  {
   "cell_type": "code",
   "execution_count": 2,
   "metadata": {},
   "outputs": [
    {
     "name": "stdout",
     "output_type": "stream",
     "text": [
      "249\n",
      "Part One:  69310\n",
      "Part Two:  206104\n"
     ]
    },
    {
     "data": {
      "image/png": "[encoded data removed]",
      "text/plain": [
       "<Figure size 640x480 with 1 Axes>"
      ]
     },
     "metadata": {},
     "output_type": "display_data"
    }
   ],
   "source": [
    "with Input(1) as f:\n",
    "    elves =  [[]]\n",
    "\n",
    "    line = f.readline()\n",
    "    while line:\n",
    "        if line == '\\n':\n",
    "            elves.append([])\n",
    "        else:\n",
    "            elves[-1].append(int(line))\n",
    "        line = f.readline()\n",
    "\n",
    "counts = [sum(elf) for elf in elves]\n",
    "\n",
    "# Find answers\n",
    "counts.sort(reverse=True)\n",
    "\n",
    "print(len(counts))\n",
    "print('Part One: ', counts[0])\n",
    "\n",
    "print('Part Two: ', sum(counts[0:3]))\n",
    "\n",
    "# Plot\n",
    "fig, ax = plt.subplots()\n",
    "plt.xlabel('Calories')\n",
    "plt.ylabel('# of Elves')\n",
    "ax.hist(counts, bins=125, linewidth=0.01)\n",
    "plt.show()\n",
    "\n"
   ]
  },
  {
   "cell_type": "markdown",
   "metadata": {},
   "source": [
    "## Day 2: Rock Paper Scissors"
   ]
  },
  {
   "cell_type": "code",
   "execution_count": 3,
   "metadata": {},
   "outputs": [
    {
     "name": "stdout",
     "output_type": "stream",
     "text": [
      "15523\n",
      "15702\n"
     ]
    },
    {
     "data": {
      "image/png": "[encoded data removed]",
      "text/plain": [
       "<Figure size 200x200 with 1 Axes>"
      ]
     },
     "metadata": {},
     "output_type": "display_data"
    }
   ],
   "source": [
    "SCORES = {'X':1, 'Y':2, 'Z':3}\n",
    "OUTCOMES = {\n",
    "    \"AX\": 3, # ROCK ROCK\n",
    "    \"AY\": 6, # ROCK PAPER\n",
    "    \"AZ\": 0, # ROCK SCISSORS\n",
    "    \"BX\": 0, # PAPER ROCK\n",
    "    \"BY\": 3, # PAPER PAPER\n",
    "    \"BZ\": 6, # PAPER SCISSORS\n",
    "    \"CX\": 6, # SCISSORS ROCK\n",
    "    \"CY\": 0, # SCISSORS PAPER\n",
    "    \"CZ\": 3  # SCISSORS SCISSORS\n",
    "}\n",
    "\n",
    "# X LOSE : X ROCK\n",
    "# Y DRAW : Y PAPER\n",
    "# Z WIN  : Z SCISSORS\n",
    "PLAY = {\n",
    "    'A': {'X': 'Z', 'Y': 'X', 'Z': 'Y'},\n",
    "    'B': {'X': 'X', 'Y': 'Y', 'Z': 'Z'},\n",
    "    'C': {'X': 'Y', 'Y': 'Z', 'Z': 'X'}\n",
    "}\n",
    "\n",
    "def score_round(opp, me):\n",
    "    return SCORES[me] + OUTCOMES[opp + me]\n",
    "\n",
    "def score_round_2(opp, goal):\n",
    "    return SCORES[PLAY[opp][goal]] + OUTCOMES[opp+PLAY[opp][goal]]\n",
    "\n",
    "with Input(2) as f:\n",
    "    lines = [l.strip().split(' ') for l in f.readlines()] \n",
    "\n",
    "    # Part 1\n",
    "    score = 0\n",
    "    for line in lines:\n",
    "        score += score_round(line[0], line[1])\n",
    "    print(score)\n",
    "\n",
    "    # Part 2\n",
    "    score = 0\n",
    "    for line in lines:\n",
    "        score += score_round_2(line[0], line[1])\n",
    "    print(score)\n",
    "\n",
    "    # Plot\n",
    "    plt.style.use('_mpl-gallery-nogrid')\n",
    "    cmap = plt.get_cmap(\"viridis\")\n",
    "    colors = cmap([0, 180, 360])\n",
    "\n",
    "    throws = []\n",
    "    for line in lines:\n",
    "        throws.append(PLAY[line[0]][line[1]])\n",
    "    \n",
    "    throws = [len(list(g)) for k, g in itertools.groupby(sorted(throws))]\n",
    "    \n",
    "    labels = 'Rock', 'Paper', 'Scissors'\n",
    "\n",
    "    fig1, ax1 = plt.subplots()\n",
    "    ax1.pie(throws, labels=labels, colors=colors, startangle=0)\n",
    "    ax1.axis('equal')  # Equal aspect ratio ensures that pie is drawn as a circle.\n",
    "\n"
   ]
  },
  {
   "cell_type": "markdown",
   "metadata": {},
   "source": [
    "## Day 3: Rucksack Reorganization"
   ]
  },
  {
   "cell_type": "code",
   "execution_count": 4,
   "metadata": {},
   "outputs": [
    {
     "name": "stdout",
     "output_type": "stream",
     "text": [
      "8109\n",
      "2738\n"
     ]
    }
   ],
   "source": [
    "alpha = 'abcdefghijklmnopqrstuvwxyzABCDEFGHIJKLMNOPQRSTUVWXYZ'\n",
    "priorities  = {v: k+1 for k,v in enumerate(alpha)}\n",
    "\n",
    "def priority(c):\n",
    "    return priorities[c]\n",
    "\n",
    "def find_match(s):\n",
    "    first = set(s[0:len(s) // 2])\n",
    "    second = set(s[len(s) // 2:])\n",
    "    return first.intersection(second).pop()\n",
    "\n",
    "def threewise(iterable):\n",
    "    a, b, c = itertools.tee(iterable, 3)\n",
    "    a = list(a)[::3]\n",
    "    b = list(b)[1::3]\n",
    "    c = list(c)[2::3]\n",
    "    return list(zip(a, b, c))\n",
    "\n",
    "def find_badges(rucksacks):\n",
    "    return set(rucksacks[0]).intersection(set(rucksacks[1])).intersection(set(rucksacks[2])).pop()\n",
    "\n",
    "with Input(3) as f:\n",
    "    lines = [l.strip() for l in f.readlines()]\n",
    "\n",
    "    # Part 1\n",
    "    print(sum([priority(find_match(line)) for line in lines]))\n",
    "\n",
    "    # Part 2\n",
    "    groups = threewise(lines)\n",
    "    print(sum([priority(find_badges(group)) for group in groups]))\n"
   ]
  },
  {
   "cell_type": "markdown",
   "metadata": {},
   "source": [
    "## Day 4: Camp Cleanup"
   ]
  },
  {
   "cell_type": "code",
   "execution_count": 5,
   "metadata": {},
   "outputs": [
    {
     "name": "stdout",
     "output_type": "stream",
     "text": [
      "534\n",
      "841\n"
     ]
    }
   ],
   "source": [
    "\n",
    "def contains(pair):\n",
    "    first_in_second = pair[0][0] >= pair[1][0] and pair[0][1] <= pair[1][1]\n",
    "    second_in_first = pair[0][0] <= pair[1][0] and pair[0][1] >= pair[1][1]\n",
    "    return first_in_second or second_in_first\n",
    "\n",
    "def overlaps(pair):\n",
    "    first = pair[1][0] <= pair[0][0] <= pair[1][1]\n",
    "    second = pair[1][0] <= pair[0][1] <= pair[1][1]\n",
    "    third = pair[0][0] <= pair[1][0] <= pair[0][1]\n",
    "    fourth = pair[0][0] <= pair[1][0] <= pair[0][1]\n",
    "    return first or second or third or fourth\n",
    "\n",
    "with Input(4) as f:\n",
    "    lines = [(tuple(map(int,i[0].split('-'))), tuple(map(int,i[1].split('-')))) for l in f.readlines() for i in itertools.pairwise(l.strip().split(','))]\n",
    "\n",
    "    # Part One\n",
    "    contained = filter(contains, lines)\n",
    "    print(len(list(contained)))\n",
    "\n",
    "    # Part Two\n",
    "    overlapped = filter(overlaps, lines)\n",
    "    print(len(list(overlapped)))\n"
   ]
  },
  {
   "cell_type": "markdown",
   "metadata": {},
   "source": [
    "## Day 5: Supply Stacks"
   ]
  },
  {
   "cell_type": "code",
   "execution_count": 6,
   "metadata": {},
   "outputs": [
    {
     "name": "stdout",
     "output_type": "stream",
     "text": [
      "FZCMJCRHZ\n",
      "JSDHQMZGF\n"
     ]
    }
   ],
   "source": [
    "def process(stacks, command):\n",
    "    for _ in range(command[0]):\n",
    "        stacks[command[2]].appendleft(stacks[command[1]].popleft())\n",
    "\n",
    "def process_two(stacks, command):\n",
    "    popped = collections.deque()\n",
    "    for _ in range(command[0]):\n",
    "        popped.appendleft(stacks[command[1]].popleft())\n",
    "    stacks[command[2]].extendleft(popped)\n",
    "\n",
    "with Input(5) as f:\n",
    "    lines = [l for l in f.readlines()]\n",
    "\n",
    "# Build Stacks\n",
    "stack_strings = [l.replace('    ', '_').replace('[','').replace(']','').replace(' ','').strip() for l in lines[:8]]\n",
    "stacks = {}\n",
    "stacks_two = {}\n",
    "for i in range(1,10):\n",
    "    stacks[i] = collections.deque()\n",
    "    stacks_two[i] = collections.deque()\n",
    "    for s in stack_strings:\n",
    "        if s[i-1] != '_':\n",
    "            stacks[i].append(s[i-1])\n",
    "            stacks_two[i].append(s[i-1])\n",
    "\n",
    "#Parse Input\n",
    "pattern = re.compile('move (\\d+) from (\\d+) to (\\d+)')\n",
    "commands = [l.strip() for l in lines[10:]]\n",
    "commands = [(int(c[1]),int(c[2]), int(c[3])) for c in map(pattern.search, commands)]\n",
    "\n",
    "# Part 1\n",
    "for command in commands:\n",
    "    process(stacks,command)\n",
    "\n",
    "for num, stack in stacks.items():\n",
    "    print(stack[0], end='')\n",
    "print()\n",
    "\n",
    "##\n",
    "# fig, ax = plt.subplots(figsize=(4,4))\n",
    "# bar_container = ax.bar(range(1,10), counts, color=colors)\n",
    "# counts = [len(s) for s in stacks_two.items()]\n",
    "# cmap = plt.get_cmap(\"viridis\")\n",
    "# colors = cmap([0, 30, 60, 90, 120, 180, 240, 300, 360])\n",
    "# time_text = ax.text(0.05, 0.9, '0', transform=ax.transAxes)\n",
    "# ax.set_xticks(range(1,10))\n",
    "# ax.set_yticks(range(0,60,5))\n",
    "# ax.set_ylabel('Size')\n",
    "# ax.set_title('Stacks')\n",
    "##\n",
    "\n",
    "# Part 2\n",
    "for command in commands:\n",
    "    process_two(stacks_two,command)\n",
    "\n",
    "for num, stack in stacks_two.items():\n",
    "    print(stack[0], end='')\n",
    "print()\n",
    "\n",
    "# last_processed = -1\n",
    "# def animate(i):\n",
    "#     global last_processed\n",
    "#     if i > last_processed:\n",
    "#         last_processed = i\n",
    "#         process_two(stacks_two, commands[i])\n",
    "#         heights = [len(s) for _, s in stacks_two.items()]\n",
    "#         for count, rect in zip(range(0,9), bar_container.patches):\n",
    "#             rect.set_height(heights[count])\n",
    "#         time_text.set_text(i)\n",
    "#     return bar_container\n",
    "\n",
    "\n",
    "# ani = animation.FuncAnimation(fig, animate, len(commands) - 1,\n",
    "#                               repeat=False, blit=True)\n",
    "# writer = animation.PillowWriter(fps=10)\n",
    "# ani.save(\"sine_example.gif\", writer=writer)\n"
   ]
  },
  {
   "cell_type": "markdown",
   "metadata": {},
   "source": [
    "## Day 6: Tuning Trouble"
   ]
  },
  {
   "cell_type": "code",
   "execution_count": 7,
   "metadata": {},
   "outputs": [
    {
     "name": "stdout",
     "output_type": "stream",
     "text": [
      "1929\n",
      "3298\n"
     ]
    }
   ],
   "source": [
    "with Input(6) as f:\n",
    "    buffer = f.readline()\n",
    "\n",
    "    # Part 1\n",
    "    i = 4\n",
    "    while len(set(buffer[i-1:i-1-4:-1])) != 4:\n",
    "        i += 1\n",
    "    print(i)\n",
    "\n",
    "    # Part 2\n",
    "    i = 14\n",
    "    while len(set(buffer[i-1:i-1-14:-1])) != 14:\n",
    "        i += 1\n",
    "    print(i)\n"
   ]
  },
  {
   "cell_type": "markdown",
   "metadata": {},
   "source": [
    "## Day 7: No Space Left On Device"
   ]
  },
  {
   "cell_type": "code",
   "execution_count": 8,
   "metadata": {},
   "outputs": [
    {
     "name": "stdout",
     "output_type": "stream",
     "text": [
      "1297683\n",
      "Candidate:  5756764\n"
     ]
    }
   ],
   "source": [
    "def parse_command_output(current, history, dir, command_output):\n",
    "    command = command_output[0].split()\n",
    "    output = list(map(str.split, command_output[1:]))\n",
    "    if command[0] == 'cd':\n",
    "        if command[1] == '/':\n",
    "            current = '/'\n",
    "            history = ['/']\n",
    "        elif command[1] == '..':\n",
    "            current = history.pop()\n",
    "        else:\n",
    "            curr_dir = dir\n",
    "            for h in history:\n",
    "                curr_dir = curr_dir[h]\n",
    "            current = command[1]\n",
    "            if current not in curr_dir:\n",
    "                curr_dir[current] = dict()\n",
    "            history.append(command[1])\n",
    "    elif command[0] == 'ls':\n",
    "        for line in output:\n",
    "            if line[0] == 'dir':\n",
    "                pass\n",
    "            else: \n",
    "                curr_dir = dir\n",
    "                for h in history:\n",
    "                    curr_dir = curr_dir[h]\n",
    "                curr_dir[line[1]] = int(line[0])\n",
    "    return current, history\n",
    "\n",
    "total = 0\n",
    "candidate = 9999999999999\n",
    "def sum_dir(dir):\n",
    "    global total, candidate\n",
    "    sum = 0\n",
    "    for k, v in dir.items():\n",
    "        if type(v) == dict:\n",
    "            sum += sum_dir(v)\n",
    "        elif type(v) == int:\n",
    "            sum += v\n",
    "    if sum <= 100000:\n",
    "        total += sum\n",
    "    if sum >= 4804833 and sum < candidate:\n",
    "        candidate = sum\n",
    "    return sum\n",
    "\n",
    "\n",
    "\n",
    "with Input(7) as f:\n",
    "    commands = [l.strip().splitlines() for l in f.read().split(\"$\") if l != '']\n",
    "\n",
    "    dir = dict()\n",
    "    current = '/'\n",
    "    history = ['/']\n",
    "    dir['/'] = dict()\n",
    "\n",
    "    for command in commands:\n",
    "        current, history = parse_command_output(current, history, dir, command)\n",
    "\n",
    "def print_dir(dir, prefix='-'):\n",
    "    for k,v in dir.items():\n",
    "        if type(v) == dict:\n",
    "            print(prefix, k, '(dir)')\n",
    "            print_dir(v, '    ' + prefix)\n",
    "        elif type(v) == int:\n",
    "            print(prefix, k, '(', v, ')')\n",
    "\n",
    "disk = 70000000\n",
    "used = sum_dir(dir)\n",
    "# Part 1\n",
    "print(total)\n",
    "\n",
    "# Part 2\n",
    "available = disk - used\n",
    "needed = 30000000 - available\n",
    "print('Candidate: ', candidate)\n"
   ]
  },
  {
   "attachments": {},
   "cell_type": "markdown",
   "metadata": {},
   "source": [
    "## Day 8: Treetop Tree House"
   ]
  },
  {
   "cell_type": "code",
   "execution_count": 9,
   "metadata": {},
   "outputs": [
    {
     "name": "stdout",
     "output_type": "stream",
     "text": [
      "1832\n",
      "157320\n"
     ]
    }
   ],
   "source": [
    "with Input(8) as f:\n",
    "    forest = [list(map(int, l.strip())) for l in f.readlines()]\n",
    "\n",
    "def takewhile_inc(predicate, iterable):\n",
    "    # takewhile_inc(lambda x: x<5, [1,4,6,4,1]) --> 1 4 6\n",
    "    for x in iterable:\n",
    "        if predicate(x):\n",
    "            yield x\n",
    "        else:\n",
    "            yield x\n",
    "            break\n",
    "    \n",
    "\n",
    "def score_tree(tree, forest, max_dim):\n",
    "    score = 1\n",
    "    i, j = tree\n",
    "    to_left = list(takewhile_inc(lambda x: x< forest[i][j], reversed(forest[i][:j])))\n",
    "    to_right = list(takewhile_inc(lambda x: x< forest[i][j], forest[i][j+1:]))\n",
    "\n",
    "    score *= len(to_left) * len(to_right)\n",
    "    \n",
    "    rotated = list(zip(*forest[::-1]))\n",
    "    i, j = j, max_dim - i\n",
    "\n",
    "    to_bottom =  list(takewhile_inc(lambda x: x< rotated[i][j], reversed(rotated[i][:j])))\n",
    "    to_top = list(takewhile_inc(lambda x: x< rotated[i][j], rotated[i][j+1:]))\n",
    "\n",
    "    score *= len(to_bottom) * len(to_top)\n",
    "    return score\n",
    "\n",
    "def find_visible(forest, max_dim):\n",
    "    visible = set()\n",
    "    for i, row in enumerate(forest):\n",
    "        for j, tree in enumerate(row):\n",
    "            can_see_from_left = all(map(lambda r: r < tree, forest[i][:j]))\n",
    "            can_see_from_right = all(map(lambda r: r < tree, forest[i][j+1:]))\n",
    "\n",
    "            if can_see_from_left or can_see_from_right:\n",
    "                visible.add((i,j))\n",
    "            \n",
    "            rotated = list(zip(*forest[::-1]))\n",
    "            # (i, j) => (j, max_dim-i)\n",
    "            can_see_from_bottom = all(map(lambda r: r < tree, rotated[j][:max_dim-i]))\n",
    "            can_see_from_top = all(map(lambda r: r < tree, rotated[j][max_dim-i+1:]))\n",
    "\n",
    "            if can_see_from_bottom or can_see_from_top:\n",
    "                visible.add((i,j))\n",
    "    return visible\n",
    "\n",
    "max_dim = len(forest) - 1\n",
    "visible = find_visible(forest, max_dim)\n",
    "print(len(visible))\n",
    "scores = [score_tree(t, forest, max_dim) for t in visible]\n",
    "print(max(scores))\n"
   ]
  },
  {
   "attachments": {},
   "cell_type": "markdown",
   "metadata": {},
   "source": [
    "## Day 9: Rope Bridge"
   ]
  },
  {
   "cell_type": "code",
   "execution_count": 10,
   "metadata": {},
   "outputs": [
    {
     "name": "stdout",
     "output_type": "stream",
     "text": [
      "6332\n",
      "2511\n"
     ]
    }
   ],
   "source": [
    "example_data = [\n",
    "    ('R', 5),\n",
    "    ('U', 8),\n",
    "    ('L', 8),\n",
    "    ('D', 3),\n",
    "    ('R', 17),\n",
    "    ('D', 10),\n",
    "    ('L', 25),\n",
    "    ('U', 20)\n",
    "]\n",
    "\n",
    "with Input(9) as f:\n",
    "    move_list = [(i[0], int(i[1])) for line in f.readlines() for i in itertools.pairwise(line.split())]\n",
    "\n",
    "positions = set()\n",
    "head = (0,0)\n",
    "tail = (0,0)\n",
    "\n",
    "def move_head(head, dir):\n",
    "    #Move head\n",
    "    if dir == 'L':\n",
    "        head = (head[0] - 1, head[1])\n",
    "    elif dir == 'R':\n",
    "        head = (head[0] + 1, head[1])\n",
    "    elif dir == 'U':\n",
    "        head = (head[0], head[1] - 1)\n",
    "    else: # dir == 'D'\n",
    "        head = (head[0], head[1] + 1)\n",
    "    return head\n",
    "\n",
    "def move_tail(head, tail:tuple):\n",
    "    if head[0] - tail[0] > 1 and head[1] - tail[1] > 1: # below and to the right\n",
    "        tail = (tail[0]+1, tail[1]+1)\n",
    "    elif tail[0] - head[0] > 1 and tail[1] - head[1] > 1: # above and to the left\n",
    "        tail = (tail[0]-1, tail[1]-1)\n",
    "    elif head[0] - tail[0] > 1 and tail[1] - head[1] > 1: # below and to the left\n",
    "        tail = (tail[0]+1, tail[1]-1)\n",
    "    elif tail[0] - head[0] > 1 and head[1] - tail[1] > 1: # above and to the right\n",
    "        tail = (tail[0]-1, tail[1]+1)\n",
    "    elif head[0] - tail[0] > 1: # head is more than 1 to the right of tail\n",
    "        tail = (tail[0]+1, head[1])\n",
    "    elif tail[0] - head[0] > 1: #head is more than 1 to the left of tail\n",
    "        tail = (tail[0]-1, head[1])\n",
    "    elif head[1] - tail[1] > 1: # head is more than 1 below tail\n",
    "        tail = (head[0], tail[1]+1)\n",
    "    elif tail[1] - head[1] > 1: # head is more than 1 above tail\n",
    "        tail = (head[0], tail[1]-1)\n",
    "    return tail\n",
    "\n",
    "def move_rope(head, tail, dir):\n",
    "    return (move_head(head, dir), move_tail(head, tail))\n",
    "\n",
    "for move in move_list:\n",
    "    for i in range(move[1]):\n",
    "        positions.add(tail)\n",
    "        head, tail = move_rope(head, tail, move[0])\n",
    "\n",
    "print(len(positions))\n",
    "\n",
    "#Part 2\n",
    "positions = set()\n",
    "head  = (0,0)\n",
    "tail1 = (0,0)\n",
    "tail2 = (0,0)\n",
    "tail3 = (0,0)\n",
    "tail4 = (0,0)\n",
    "tail5 = (0,0)\n",
    "tail6 = (0,0)\n",
    "tail7 = (0,0)\n",
    "tail8 = (0,0)\n",
    "tail9 = (0,0)\n",
    "positions.add(tail9)\n",
    "for move in move_list:\n",
    "    for i in range(move[1]):\n",
    "        head = move_head(head, move[0])\n",
    "        tail1 = move_tail( head, tail1)\n",
    "        tail2 = move_tail(tail1, tail2)\n",
    "        tail3 = move_tail(tail2, tail3)\n",
    "        tail4 = move_tail(tail3, tail4)\n",
    "        tail5 = move_tail(tail4, tail5)\n",
    "        tail6 = move_tail(tail5, tail6)\n",
    "        tail7 = move_tail(tail6, tail7)\n",
    "        tail8 = move_tail(tail7, tail8)\n",
    "        tail9 = move_tail(tail8, tail9)\n",
    "        positions.add(tail9)\n",
    "\n",
    "print(len(positions))\n"
   ]
  },
  {
   "attachments": {},
   "cell_type": "markdown",
   "metadata": {},
   "source": [
    "## Day 10: Cathode-Ray Tube"
   ]
  },
  {
   "cell_type": "code",
   "execution_count": 11,
   "metadata": {},
   "outputs": [
    {
     "name": "stdout",
     "output_type": "stream",
     "text": [
      "14320\n",
      "###...##..###..###..#..#..##..###....##.\n",
      "#..#.#..#.#..#.#..#.#.#..#..#.#..#....#.\n",
      "#..#.#....#..#.###..##...#..#.#..#....#.\n",
      "###..#....###..#..#.#.#..####.###.....#.\n",
      "#....#..#.#....#..#.#.#..#..#.#....#..#.\n",
      "#.....##..#....###..#..#.#..#.#.....##..\n"
     ]
    },
    {
     "data": {
      "image/png": "[encoded data removed]",
      "text/plain": [
       "<PIL.GifImagePlugin.GifImageFile image mode=P size=40x6>"
      ]
     },
     "execution_count": 11,
     "metadata": {},
     "output_type": "execute_result"
    }
   ],
   "source": [
    "with Input(10) as f:\n",
    "    instructions = [line.split() for line in f.readlines()]\n",
    "\n",
    "for i in instructions:\n",
    "    if len(i) == 2:\n",
    "        i[1] = int(i[1])\n",
    "\n",
    "cycles = []\n",
    "x = 1\n",
    "for i in instructions:\n",
    "    if i[0] == 'noop':\n",
    "        cycles.append(x)\n",
    "    elif i[0] == 'addx':\n",
    "        cycles.append(x)\n",
    "        cycles.append(x)\n",
    "        x += i[1]\n",
    "\n",
    "def sum_cycles(cycles, breakpoints):\n",
    "    total = 0\n",
    "    for i, x in enumerate(cycles, 1):\n",
    "        if i in breakpoints:\n",
    "            total += i * x\n",
    "    return total\n",
    "\n",
    "## Part 1\n",
    "print(sum_cycles(cycles, [20, 60, 100, 140, 180, 220]))\n",
    "\n",
    "\n",
    "# Part 2\n",
    "import PIL\n",
    "import IPython\n",
    "\n",
    "img = PIL.Image.new( 'RGB', (40,6), \"black\") # Create a new black image\n",
    "pixels = img.load() # Create the pixel map\n",
    "\n",
    "\n",
    "\n",
    "def sprite(x):\n",
    "    return [x-1,x,x+1]\n",
    "\n",
    "display = ''\n",
    "for i, x in enumerate(cycles):\n",
    "    if i%40 in sprite(x):\n",
    "        pixels[i%40,i//40] = (255,255,255)\n",
    "        display = display + '#'\n",
    "    else:\n",
    "        display = display + '.'\n",
    "for i in range(6):\n",
    "    s = display[40*i:40*i+40]\n",
    "    print(s)\n",
    "\n",
    "img.save('test.gif')\n",
    "\n",
    "PIL.Image.open('test.gif')\n"
   ]
  },
  {
   "attachments": {},
   "cell_type": "markdown",
   "metadata": {},
   "source": [
    "## Day 11: Monkey in the Middle"
   ]
  },
  {
   "cell_type": "code",
   "execution_count": 12,
   "metadata": {},
   "outputs": [
    {
     "data": {
      "text/plain": [
       "39109444654"
      ]
     },
     "execution_count": 12,
     "metadata": {},
     "output_type": "execute_result"
    }
   ],
   "source": [
    "monkey_pattern = re.compile(\n",
    "    r'.*items: (?P<items>.*)\\n.*new = (?P<operation>.*)\\n.*divisible by (?P<test>.*)\\n.*monkey (?P<true>\\d)\\n.*monkey (?P<false>\\d)',\n",
    "    flags=re.MULTILINE)\n",
    "\n",
    "def parse_monkey(monkey):\n",
    "    monkey['items'] = list(map(int, monkey['items'].split(',')))\n",
    "    op = monkey['operation'].split(' ')\n",
    "    if op[1] == '*':\n",
    "        if op[2] == 'old':\n",
    "            monkey['operation'] = lambda x: x * x\n",
    "        else:\n",
    "            monkey['operation'] = lambda x: x * int(op[2])\n",
    "    else:\n",
    "        if op[2] == 'old':\n",
    "            monkey['operation'] = lambda x: x + x\n",
    "        else:\n",
    "            monkey['operation'] = lambda x: x + int(op[2])\n",
    "    test_val =  int(monkey['test'])\n",
    "    monkey['test'] = lambda x:  x % test_val == 0\n",
    "    monkey['true'] = int(monkey['true'])\n",
    "    monkey['false'] = int(monkey['false'])\n",
    "    monkey['inspected'] = 0\n",
    "    return monkey\n",
    "\n",
    "\n",
    "with Input(11) as f:\n",
    "    monkeys = [monkey for monkey in f.read().split('\\n\\n')]\n",
    "\n",
    "monkeys = [parse_monkey(monkey_pattern.search(monkey).groupdict()) for monkey in monkeys ]\n",
    "\n",
    "rounds = 10000\n",
    "\n",
    "for i in range(rounds):\n",
    "    for m in range(len(monkeys)):\n",
    "        monkey = monkeys[m]\n",
    "        while len(monkey['items']):\n",
    "            item = monkey['items'].pop(0)\n",
    "            item = monkey['operation'](item)\n",
    "            monkey['inspected'] += 1\n",
    "            item = item % 9699690\n",
    "            test = monkey['test'](item)\n",
    "            throw_to = monkey['true'] if test else monkey['false']\n",
    "            monkeys[throw_to]['items'].append(item)\n",
    "\n",
    "import operator\n",
    "functools.reduce(operator.mul, sorted([monkey['inspected'] for monkey in monkeys])[-2:])\n"
   ]
  },
  {
   "attachments": {},
   "cell_type": "markdown",
   "metadata": {},
   "source": [
    "## Day 12: Hill Climbing Algorithm"
   ]
  },
  {
   "cell_type": "code",
   "execution_count": 13,
   "metadata": {},
   "outputs": [
    {
     "name": "stdout",
     "output_type": "stream",
     "text": [
      "shortest path length 394\n",
      "shortest path from all a nodes: 388\n"
     ]
    }
   ],
   "source": [
    "char_map = dict(zip('abcdefghijklmnopqrstuvwxyz', range(0,26)))\n",
    "\n",
    "def find_neighbors(node, max_x, max_y):\n",
    "    y, x = node\n",
    "    options = [ (yy,xx) for yy,xx in itertools.product([y-1,y,y+1], [x-1, x, x+1])\n",
    "        if (yy,xx) != node and 0 <= xx < max_x and 0 <= yy < max_y and (yy == y or xx == x)]\n",
    "    return options\n",
    "\n",
    "with Input(12) as f:\n",
    "    hills = [list(line.strip()) for line in f.readlines()]\n",
    "\n",
    "max_x = len(hills[0])\n",
    "max_y = len(hills)\n",
    "\n",
    "G = nx.DiGraph()\n",
    "\n",
    "for y, hill in enumerate(hills):\n",
    "    for x, letter in enumerate(hill):\n",
    "        G.add_node((y,x))\n",
    "\n",
    "\n",
    "start = None\n",
    "end = None\n",
    "for node in G.nodes():\n",
    "    y, x = node\n",
    "    if hills[y][x] in ['S', 'E']:\n",
    "        if hills[y][x] == 'S':\n",
    "            start = (y,x)\n",
    "            neighbors = find_neighbors(node, max_x, max_y)\n",
    "            for neighbor in neighbors:\n",
    "                G.add_edge(node, neighbor)\n",
    "        else:\n",
    "            end = (y,x)\n",
    "            neighbors = find_neighbors(node, max_x, max_y)\n",
    "            for neighbor in neighbors:\n",
    "                if  hills[neighbor[0]][neighbor[1]] == 'z':\n",
    "                    G.add_edge(neighbor, node)\n",
    "    else:\n",
    "        neighbors = find_neighbors(node, max_x, max_y)\n",
    "        for neighbor in neighbors:\n",
    "            current = hills[node[0]][node[1]]\n",
    "            next = hills[neighbor[0]][neighbor[1]]\n",
    "            if next in ['S', 'E']:\n",
    "                continue\n",
    "            elif char_map[current] - char_map[next] <= 1:\n",
    "                G.add_edge(neighbor, node)\n",
    "\n",
    "\n",
    "\n",
    "shortest = nx.shortest_path(G, start, end)\n",
    "\n",
    "# pos = {node: (node[1], -node[0]) for node in G.nodes()}\n",
    "\n",
    "# shortest_edges = list(itertools.pairwise(shortest))\n",
    "# edge_colors = []\n",
    "# node_colors = []\n",
    "\n",
    "# for node in G.nodes():\n",
    "#     if node == start:\n",
    "#         node_colors.append('g')\n",
    "#     elif node == end:\n",
    "#         node_colors.append('r')\n",
    "#     else:\n",
    "#         node_colors.append('b')\n",
    "\n",
    "# for edge in G.edges():\n",
    "#     if edge in shortest_edges or (edge[1], edge[0]) in shortest_edges:\n",
    "#         edge_colors.append('r')\n",
    "#     else:\n",
    "#         edge_colors.append('b')\n",
    "\n",
    "# fig, ax = plt.subplots(figsize=(50, 50))\n",
    "# nx.draw_networkx_nodes(G, node_color=node_colors, pos=pos)\n",
    "# nx.draw_networkx_edges(G, edge_color=edge_colors, pos=pos)\n",
    "# print('start', start, 'end', end)\n",
    "\n",
    "print('shortest path length', len(shortest) - 1)\n",
    "\n",
    "\n",
    "## Part 2\n",
    "absolute_shortest = 9999\n",
    "\n",
    "a_nodes = [node for node in G.nodes() if hills[node[0]][node[1]] == 'a']\n",
    "\n",
    "\n",
    "for a in a_nodes:\n",
    "    if nx.has_path(G, a, end):\n",
    "        shortest = nx.shortest_path(G, a, end)\n",
    "        if len(shortest) - 1 < absolute_shortest:\n",
    "            absolute_shortest = len(shortest) - 1\n",
    "print('shortest path from all a nodes:', absolute_shortest)\n"
   ]
  },
  {
   "cell_type": "code",
   "execution_count": null,
   "metadata": {},
   "outputs": [],
   "source": []
  }
 ],
 "metadata": {
  "kernelspec": {
   "display_name": "Python 3.11.0 64-bit",
   "language": "python",
   "name": "python3"
  },
  "language_info": {
   "codemirror_mode": {
    "name": "ipython",
    "version": 3
   },
   "file_extension": ".py",
   "mimetype": "text/x-python",
   "name": "python",
   "nbconvert_exporter": "python",
   "pygments_lexer": "ipython3",
   "version": "3.11.3"
  },
  "orig_nbformat": 4,
  "vscode": {
   "interpreter": {
    "hash": "ead1b95f633dc9c51826328e1846203f51a198c6fb5f2884a80417ba131d4e82"
   }
  }
 },
 "nbformat": 4,
 "nbformat_minor": 2
}
