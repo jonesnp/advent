{
 "cells": [
  {
   "cell_type": "code",
   "execution_count": 3,
   "metadata": {},
   "outputs": [],
   "source": [
    "import matplotlib.pyplot as plt\n",
    "import itertools\n",
    "import functools\n",
    "import statistics\n",
    "import math\n",
    "\n",
    "plt.rc('image', cmap='viridis')\n",
    "plt.style.use('dark_background')\n",
    "\n",
    "\n",
    "def Input(day):\n",
    "    \"Open input file for the day\"\n",
    "    file = '2022/input{0}.txt'.format(day)\n",
    "    return open(file)\n"
   ]
  }
 ],
 "metadata": {
  "kernelspec": {
   "display_name": "Python 3.8.10 ('.venv': venv)",
   "language": "python",
   "name": "python3"
  },
  "language_info": {
   "codemirror_mode": {
    "name": "ipython",
    "version": 3
   },
   "file_extension": ".py",
   "mimetype": "text/x-python",
   "name": "python",
   "nbconvert_exporter": "python",
   "pygments_lexer": "ipython3",
   "version": "3.8.10"
  },
  "orig_nbformat": 4,
  "vscode": {
   "interpreter": {
    "hash": "d45deda521409f1ee1adb45080085b0db76a4e963348bf3ab4bf5d61231a50d4"
   }
  }
 },
 "nbformat": 4,
 "nbformat_minor": 2
}
