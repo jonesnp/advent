{
 "cells": [
  {
   "cell_type": "code",
   "execution_count": 1,
   "metadata": {},
   "outputs": [],
   "source": [
    "import heapq\n",
    "import math\n",
    "import urllib.request\n",
    "from itertools import groupby\n",
    "\n",
    "\n",
    "def Input(day):\n",
    "    \"Open input file for the day\"\n",
    "    file = '2017/input{0}.txt'.format(day)\n",
    "    try:\n",
    "        return open(file)\n",
    "    except FileNotFoundError:\n",
    "        return urllib.request.urlopen(\n",
    "            'http:/adventofcode.com/2017/day/{0}/input'.format(day))\n",
    "        "
   ]
  },
  {
   "cell_type": "markdown",
   "metadata": {},
   "source": [
    "# Day 1: Inverse Captcha\n",
    "The captcha requires you to review a sequence of digits (your puzzle input) and find the sum of all digits that match the next digit in the list. The list is circular, so the digit after the last digit is the first digit in the list."
   ]
  },
  {
   "cell_type": "code",
   "execution_count": 2,
   "metadata": {},
   "outputs": [
    {
     "data": {
      "text/plain": [
       "1097"
      ]
     },
     "execution_count": 2,
     "metadata": {},
     "output_type": "execute_result"
    }
   ],
   "source": [
    "def parse(text):\n",
    "    #append the first digit on the end, and group like digits\n",
    "    return groupby(text + text[0])\n",
    "\n",
    "def group(sequence):\n",
    "    #return list of (digit, # of repetitions) tuples\n",
    "    return [(int(digit),len(list(group))-1) for digit, group in parse(sequence)]\n",
    "\n",
    "def inverse_captcha(groups):\n",
    "    #sum all repeated digits\n",
    "    return sum([digit*reps for digit,reps in groups if reps >= 1])\n",
    "\n",
    "assert(inverse_captcha(group('1122')) == 3)\n",
    "assert(inverse_captcha(group('1111')) == 4)\n",
    "assert(inverse_captcha(group('1234')) == 0)\n",
    "assert(inverse_captcha(group('91212129')) == 9)\n",
    "\n",
    "inverse_captcha(group(Input(1).read().rstrip()))"
   ]
  },
  {
   "cell_type": "markdown",
   "metadata": {},
   "source": [
    "**Part 2**: Now, instead of considering the next digit, it wants you to consider the digit halfway around the circular list. That is, if your list contains 10 items, only include a digit in your sum if the digit 10/2 = 5 steps forward matches it. Fortunately, your list has an even number of elements."
   ]
  },
  {
   "cell_type": "code",
   "execution_count": 3,
   "metadata": {},
   "outputs": [
    {
     "data": {
      "text/plain": [
       "1188"
      ]
     },
     "execution_count": 3,
     "metadata": {},
     "output_type": "execute_result"
    }
   ],
   "source": [
    "def parse(text):\n",
    "    #pair digits and their shifted partners\n",
    "    size = len(text)\n",
    "    shift = get_shifter(size)\n",
    "    return [(int(text[i]),int(text[shift(i)])) for i in range(size//2)]\n",
    "\n",
    "def get_shifter(length):\n",
    "    #given an index return the halfway shifted index\n",
    "    return lambda x : (x + length // 2) % length\n",
    "\n",
    "def halfway_captcha(values):\n",
    "    return sum([i*2 for i,j in values if i == j])\n",
    "\n",
    "assert(halfway_captcha(parse('1212')) == 6)\n",
    "assert(halfway_captcha(parse('1221')) == 0)\n",
    "assert(halfway_captcha(parse('123425')) == 4)\n",
    "assert(halfway_captcha(parse('123123')) == 12)\n",
    "assert(halfway_captcha(parse('12131415')) == 4)\n",
    "\n",
    "halfway_captcha(parse(Input(1).read().rstrip()))\n"
   ]
  },
  {
   "cell_type": "markdown",
   "metadata": {},
   "source": [
    "# Day 2: Corruption Checksum\n",
    "The spreadsheet consists of rows of apparently-random numbers. To make sure the recovery process is on the right track, they need you to calculate the spreadsheet's checksum. For each row, determine the difference between the largest value and the smallest value; the checksum is the sum of all of these differences."
   ]
  },
  {
   "cell_type": "code",
   "execution_count": 6,
   "metadata": {},
   "outputs": [
    {
     "data": {
      "text/plain": [
       "41887"
      ]
     },
     "execution_count": 6,
     "metadata": {},
     "output_type": "execute_result"
    }
   ],
   "source": [
    "def parse(text):\n",
    "    return [[int(x) for x in line.split()] for line in text.splitlines()]\n",
    "\n",
    "def range_diff(values):\n",
    "    values.sort()\n",
    "    return values[-1] - values[0]\n",
    "    \n",
    "def checksum(rows):\n",
    "    return sum([range_diff(row) for row in rows])\n",
    "\n",
    "assert(parse('''1    2    3\n",
    "                4    5    6''') == [[1,2,3],[4,5,6]])\n",
    "assert(range_diff([1,2,3,4]) == 3)\n",
    "assert(checksum([[5,1,9,5],[7,5,3],[2,4,6,8]]) == 18)\n",
    "\n",
    "checksum(parse(Input(2).read().rstrip()))"
   ]
  },
  {
   "cell_type": "markdown",
   "metadata": {},
   "source": [
    "**Part 2:** It sounds like the goal is to find the only two numbers in each row where one evenly divides the other - that is, where the result of the division operation is a whole number. They would like you to find those numbers on each line, divide them, and add up each line's result."
   ]
  },
  {
   "cell_type": "code",
   "execution_count": 17,
   "metadata": {},
   "outputs": [
    {
     "data": {
      "text/plain": [
       "226"
      ]
     },
     "execution_count": 17,
     "metadata": {},
     "output_type": "execute_result"
    }
   ],
   "source": [
    "def even_quotient(values):\n",
    "    values.sort()\n",
    "    for i in range(len(values)):\n",
    "        for j in range(i+1,len(values)):\n",
    "            if values[j] % values[i] == 0:\n",
    "                return values[j] // values[i] \n",
    "        \n",
    "def checksum(rows):\n",
    "    return sum([even_quotient(row) for row in rows])\n",
    "\n",
    "assert(even_quotient([2,3,4,5]) == 2)\n",
    "assert(checksum([[5,9,2,8],[9,4,7,3],[3,8,6,5]]) == 9)\n",
    "\n",
    "checksum(parse(Input(2).read().rstrip()))"
   ]
  },
  {
   "cell_type": "markdown",
   "metadata": {},
   "source": [
    "# Day 3: Spiral Memory"
   ]
  },
  {
   "cell_type": "code",
   "execution_count": 95,
   "metadata": {},
   "outputs": [
    {
     "data": {
      "text/plain": [
       "326"
      ]
     },
     "execution_count": 95,
     "metadata": {},
     "output_type": "execute_result"
    }
   ],
   "source": [
    "def distance(n):\n",
    "    next_odd_sqrt = 2 * (math.ceil(math.sqrt(n)) // 2 + 1) - 1\n",
    "    max_layer_value = next_odd_sqrt**2\n",
    "    side_len = next_odd_sqrt - 1 #also the number of steps for a corner to reach 1\n",
    "    corners = [ max_layer_value - i*side_len for i in range(4)]\n",
    "    distances = [abs(corner - n) for corner in corners]\n",
    "    return side_len - min(distances)\n",
    "\n",
    "assert(distance(1) == 0)\n",
    "assert(distance(12) == 3)\n",
    "assert(distance(23) == 2)\n",
    "assert(distance(1024) == 31)\n",
    "\n",
    "distance(361527) "
   ]
  },
  {
   "cell_type": "markdown",
   "metadata": {},
   "source": [
    "**Part 2:**"
   ]
  },
  {
   "cell_type": "code",
   "execution_count": null,
   "metadata": {},
   "outputs": [],
   "source": []
  },
  {
   "cell_type": "markdown",
   "metadata": {},
   "source": [
    "# Day 4: High-Entropy Passphrases\n",
    "A new system policy has been put in place that requires all accounts to use a passphrase instead of simply a password. A passphrase consists of a series of words (lowercase letters) separated by spaces.\n",
    "\n",
    "To ensure security, a valid passphrase must contain no duplicate words."
   ]
  },
  {
   "cell_type": "code",
   "execution_count": 96,
   "metadata": {},
   "outputs": [
    {
     "data": {
      "text/plain": [
       "466"
      ]
     },
     "execution_count": 96,
     "metadata": {},
     "output_type": "execute_result"
    }
   ],
   "source": [
    "def validate(passphrase):\n",
    "    passphrase = passphrase.split()\n",
    "    return len(set(passphrase)) == len(passphrase)\n",
    "    \n",
    "\n",
    "assert(validate('aa bb cc dd ee') == True)\n",
    "assert(validate('aa bb cc dd aa') == False)\n",
    "\n",
    "sum([validate(phrase) for phrase in Input(4).read().rstrip().splitlines()])"
   ]
  },
  {
   "cell_type": "markdown",
   "metadata": {},
   "source": [
    "**Part 2:** For added security, yet another system policy has been put in place. Now, a valid passphrase must contain no two words that are anagrams of each other - that is, a passphrase is invalid if any word's letters can be rearranged to form any other word in the passphrase."
   ]
  },
  {
   "cell_type": "code",
   "execution_count": 110,
   "metadata": {},
   "outputs": [
    {
     "data": {
      "text/plain": [
       "251"
      ]
     },
     "execution_count": 110,
     "metadata": {},
     "output_type": "execute_result"
    }
   ],
   "source": [
    "def validate(passphrase):\n",
    "    #sort each word alphabetically\n",
    "    passphrase = list(map(lambda x : ''.join(sorted(x)), passphrase.split()))\n",
    "    return len(set(passphrase)) == len(passphrase)\n",
    "\n",
    "assert(validate('abcde fghij') == True)\n",
    "assert(validate('abcde xyz ecdab') == False)\n",
    "assert(validate('a ab abc abd abf abj') == True)\n",
    "assert(validate('iiii oiii ooii oooi oooo') == True)\n",
    "assert(validate('oiii ioii iioi iiio') == False)\n",
    "\n",
    "sum([validate(phrase) for phrase in Input(4).read().rstrip().splitlines()])"
   ]
  },
  {
   "cell_type": "markdown",
   "metadata": {},
   "source": [
    "# Day 5: A Maze of Twisty Trampolines, All Alike"
   ]
  },
  {
   "cell_type": "code",
   "execution_count": 11,
   "metadata": {},
   "outputs": [
    {
     "data": {
      "text/plain": [
       "358309"
      ]
     },
     "execution_count": 11,
     "metadata": {},
     "output_type": "execute_result"
    }
   ],
   "source": [
    "def parse(text):\n",
    "    return [int(line) for line in text.splitlines()]\n",
    "\n",
    "def execute(instructions):\n",
    "    pointer, counter = 0, 0\n",
    "    while pointer < len(instructions):\n",
    "        counter += 1\n",
    "        temp = pointer \n",
    "        pointer += instructions[pointer]\n",
    "        instructions[temp] += 1\n",
    "    return counter\n",
    "\n",
    "assert(execute([0,3,0,1,-3]) == 5)\n",
    "execute(parse(Input(5).read().rstrip()))"
   ]
  },
  {
   "cell_type": "markdown",
   "metadata": {},
   "source": [
    "**Part Two:**"
   ]
  },
  {
   "cell_type": "code",
   "execution_count": 10,
   "metadata": {},
   "outputs": [
    {
     "data": {
      "text/plain": [
       "28178177"
      ]
     },
     "execution_count": 10,
     "metadata": {},
     "output_type": "execute_result"
    }
   ],
   "source": [
    "def execute(instructions):\n",
    "    pointer, counter = 0, 0\n",
    "    while pointer < len(instructions):\n",
    "        counter += 1\n",
    "        temp = pointer \n",
    "        pointer += instructions[pointer]\n",
    "        if instructions[temp] >= 3:\n",
    "            instructions[temp] -= 1\n",
    "        else:\n",
    "            instructions[temp] += 1\n",
    "    return counter\n",
    "\n",
    "assert(execute([0,3,0,1,-3]) == 10)\n",
    "execute(parse(Input(5).read().rstrip()))"
   ]
  }
 ],
 "metadata": {
  "kernelspec": {
   "display_name": "Python 3",
   "language": "python",
   "name": "python3"
  },
  "language_info": {
   "codemirror_mode": {
    "name": "ipython",
    "version": 3
   },
   "file_extension": ".py",
   "mimetype": "text/x-python",
   "name": "python",
   "nbconvert_exporter": "python",
   "pygments_lexer": "ipython3",
   "version": "3.6.3"
  }
 },
 "nbformat": 4,
 "nbformat_minor": 2
}
