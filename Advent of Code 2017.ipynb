{
 "cells": [
  {
   "cell_type": "code",
   "execution_count": 1,
   "metadata": {},
   "outputs": [],
   "source": [
    "import urllib.request\n",
    "from itertools import groupby\n",
    "\n",
    "def Input(day):\n",
    "    \"Open input file for the day\"\n",
    "    file = '2017/input{0}.txt'.format(day)\n",
    "    try:\n",
    "        return open(file)\n",
    "    except FileNotFoundError:\n",
    "        return urllib.request.urlopen(\n",
    "            'http:/adventofcode.com/2017/day/{0}/input'.format(day))\n",
    "        "
   ]
  },
  {
   "cell_type": "markdown",
   "metadata": {},
   "source": [
    "# Day 1: Inverse Captcha\n",
    "The captcha requires you to review a sequence of digits (your puzzle input) and find the sum of all digits that match the next digit in the list. The list is circular, so the digit after the last digit is the first digit in the list."
   ]
  },
  {
   "cell_type": "code",
   "execution_count": 2,
   "metadata": {},
   "outputs": [
    {
     "data": {
      "text/plain": [
       "1097"
      ]
     },
     "execution_count": 2,
     "metadata": {},
     "output_type": "execute_result"
    }
   ],
   "source": [
    "def parse(text):\n",
    "    #append the first digit on the end, and group like digits\n",
    "    return groupby(text + text[0])\n",
    "\n",
    "def group(sequence):\n",
    "    #return list of (digit, # of repetitions) tuples\n",
    "    return [(int(digit),len(list(group))-1) for digit, group in parse(sequence)]\n",
    "\n",
    "def inverse_captcha(groups):\n",
    "    #sum all repeated digits\n",
    "    return sum([digit*reps for digit,reps in groups if reps >= 1])\n",
    "\n",
    "assert(inverse_captcha(group('1122')) == 3)\n",
    "assert(inverse_captcha(group('1111')) == 4)\n",
    "assert(inverse_captcha(group('1234')) == 0)\n",
    "assert(inverse_captcha(group('91212129')) == 9)\n",
    "\n",
    "inverse_captcha(group(Input(1).read().rstrip()))"
   ]
  },
  {
   "cell_type": "markdown",
   "metadata": {},
   "source": [
    "**Part 2**: Now, instead of considering the next digit, it wants you to consider the digit halfway around the circular list. That is, if your list contains 10 items, only include a digit in your sum if the digit 10/2 = 5 steps forward matches it. Fortunately, your list has an even number of elements."
   ]
  },
  {
   "cell_type": "code",
   "execution_count": 3,
   "metadata": {},
   "outputs": [
    {
     "data": {
      "text/plain": [
       "1188"
      ]
     },
     "execution_count": 3,
     "metadata": {},
     "output_type": "execute_result"
    }
   ],
   "source": [
    "def parse(text):\n",
    "    #pair digits and their shifted partners\n",
    "    size = len(text)\n",
    "    shift = get_shifter(size)\n",
    "    return [(int(text[i]),int(text[shift(i)])) for i in range(size//2)]\n",
    "\n",
    "def get_shifter(length):\n",
    "    #given an index return the halfway shifted index\n",
    "    return lambda x : (x + length // 2) % length\n",
    "\n",
    "def halfway_captcha(values):\n",
    "    return sum([i*2 for i,j in values if i == j])\n",
    "\n",
    "assert(halfway_captcha(parse('1212')) == 6)\n",
    "assert(halfway_captcha(parse('1221')) == 0)\n",
    "assert(halfway_captcha(parse('123425')) == 4)\n",
    "assert(halfway_captcha(parse('123123')) == 12)\n",
    "assert(halfway_captcha(parse('12131415')) == 4)\n",
    "\n",
    "halfway_captcha(parse(Input(1).read().rstrip()))\n"
   ]
  }
 ],
 "metadata": {
  "kernelspec": {
   "display_name": "Python 3",
   "language": "python",
   "name": "python3"
  },
  "language_info": {
   "codemirror_mode": {
    "name": "ipython",
    "version": 3
   },
   "file_extension": ".py",
   "mimetype": "text/x-python",
   "name": "python",
   "nbconvert_exporter": "python",
   "pygments_lexer": "ipython3",
   "version": "3.6.3"
  }
 },
 "nbformat": 4,
 "nbformat_minor": 2
}
